{
 "cells": [
  {
   "cell_type": "code",
   "execution_count": 1,
   "id": "5717a8c0-9d97-4b58-bb38-bf759ae8cd9e",
   "metadata": {},
   "outputs": [],
   "source": [
    "## leet code grind"
   ]
  },
  {
   "cell_type": "markdown",
   "id": "604aaa35-9eab-4041-9d81-35a4ee2709a0",
   "metadata": {},
   "source": [
    "## Replace Words\n",
    "In English, we have a concept called root, which can be followed by some other word to form another longer word - let's call this word derivative. For example, when the root \"help\" is followed by the word \"ful\", we can form a derivative \"helpful\".\n",
    "\n",
    "Given a dictionary consisting of many roots and a sentence consisting of words separated by spaces, replace all the derivatives in the sentence with the root forming it. If a derivative can be replaced by more than one root, replace it with the root that has the shortest length.\n",
    "\n",
    "Return the sentence after the replacement.\n"
   ]
  },
  {
   "cell_type": "code",
   "execution_count": 2,
   "id": "cd5e06e6-c8e8-499a-b314-b9d5307c04e4",
   "metadata": {},
   "outputs": [
    {
     "name": "stdout",
     "output_type": "stream",
     "text": [
      "['I', ' ', 'a', 'm', ' ', 'f', 'e', 'e', 'l', 'i', 'n', 'g', ' ', 'g', 'o', 'o', 'd']\n"
     ]
    }
   ],
   "source": [
    "# task 1: figure out how to break down a sentence into a list of words\n",
    "s = 'I am feeling good'\n",
    "l = list(s)\n",
    "print(l) # this decomposes the string into each individual strings\n",
    "\n"
   ]
  },
  {
   "cell_type": "code",
   "execution_count": null,
   "id": "f8172a76-9923-45cc-af6a-1bd75265c3e7",
   "metadata": {},
   "outputs": [],
   "source": []
  }
 ],
 "metadata": {
  "kernelspec": {
   "display_name": "Python 3 (ipykernel)",
   "language": "python",
   "name": "python3"
  },
  "language_info": {
   "codemirror_mode": {
    "name": "ipython",
    "version": 3
   },
   "file_extension": ".py",
   "mimetype": "text/x-python",
   "name": "python",
   "nbconvert_exporter": "python",
   "pygments_lexer": "ipython3",
   "version": "3.12.1"
  }
 },
 "nbformat": 4,
 "nbformat_minor": 5
}
