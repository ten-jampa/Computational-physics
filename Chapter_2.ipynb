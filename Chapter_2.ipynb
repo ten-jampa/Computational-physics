{
 "cells": [
  {
   "cell_type": "code",
   "execution_count": 1,
   "metadata": {},
   "outputs": [],
   "source": [
    "import numpy as np\n",
    "import matplotlib.pyplot as plt\n"
   ]
  },
  {
   "cell_type": "markdown",
   "metadata": {},
   "source": [
    "## 1. Calculation of Madelung Constant for Sodium chloride\n",
    "\n",
    "In condensed matter physics the Madelung constant gives the total electric potential felt by an atom in a solid. It depe~ds on the charges on the other atoms nearby and their locations. Consider for instance solid sodium chloride-table salt. The sodium chloride crystal has atoms arranged on a cubic lattice, but with alternating sodium and chlorine atoms, the sodium ones having a single positive charge +e and the chlorine ones a single negative charge -e, where e is the charge on the electron. If we label each position on the lattice by three integer coordinates (i, j, k), then the sodium atoms fall at positions where i + j + k is even, and the chlorine atoms at positions where i + j + k is odd."
   ]
  },
  {
   "cell_type": "code",
   "execution_count": 2,
   "metadata": {},
   "outputs": [
    {
     "name": "stdout",
     "output_type": "stream",
     "text": [
      "[-10.  -9.  -8.  -7.  -6.  -5.  -4.  -3.  -2.  -1.   0.   1.   2.   3.\n",
      "   4.   5.   6.   7.   8.   9.  10.]\n"
     ]
    }
   ],
   "source": [
    "x = np.arange(-10, 10.5, 1)\n",
    "print(x)"
   ]
  },
  {
   "cell_type": "code",
   "execution_count": 3,
   "metadata": {},
   "outputs": [
    {
     "data": {
      "text/plain": [
       "True"
      ]
     },
     "execution_count": 3,
     "metadata": {},
     "output_type": "execute_result"
    }
   ],
   "source": [
    "i = 0\n",
    "j = 0\n",
    "k = 0\n",
    "i == j == k == 0\n"
   ]
  },
  {
   "cell_type": "code",
   "execution_count": 4,
   "metadata": {},
   "outputs": [],
   "source": [
    "\n",
    "def find_madelung_constant(L):\n",
    "    ii = np.arange(-L, L+0.1, 1)\n",
    "    jj = np.arange(-L, L+0.1, 1)\n",
    "    kk = np.arange(-L, L+0.1, 1) \n",
    "    sum = 0\n",
    "    for i in ii:\n",
    "        for j in jj:\n",
    "            for k in kk:\n",
    "                if (i+j+k)%2 == 0:\n",
    "                    if (i == j == k == 0):\n",
    "                        continue\n",
    "                    V_ijk =  (-1)/(np.sqrt(i**2 + j**2 + k**2)) #*multiplied by e/(4*pi*epsilon)\n",
    "                else:\n",
    "                    V_ijk =  1/(np.sqrt(i**2 + j**2 + k**2)) \n",
    "                sum += V_ijk\n",
    "    return sum  # value of M\n",
    "\n"
   ]
  },
  {
   "cell_type": "code",
   "execution_count": 5,
   "metadata": {},
   "outputs": [
    {
     "data": {
      "text/plain": [
       "1.7418198158396654"
      ]
     },
     "execution_count": 5,
     "metadata": {},
     "output_type": "execute_result"
    }
   ],
   "source": [
    "find_madelung_constant(100)"
   ]
  },
  {
   "cell_type": "markdown",
   "metadata": {},
   "source": [
    "## 2. The semi-empirical mass formula\n",
    "In nuclear physics, the semi-empirical mass formula is a formula for calculating the approximate nuclear binding energy B of an atomic nucleus with atomic number Z and mass number A.\n",
    "where, in units of millions of electron volts, the constants are a_1 = 15.8, a_2 = 18.3,\n",
    "a_3 =0.714, a_4=23.2"
   ]
  },
  {
   "cell_type": "markdown",
   "metadata": {},
   "source": [
    "### a. and b."
   ]
  },
  {
   "cell_type": "code",
   "execution_count": 6,
   "metadata": {},
   "outputs": [],
   "source": [
    "def semi_empirical_mass(A, Z):\n",
    "    #parametrization\n",
    "    a1 = 15.8\n",
    "    a2 = 18.3\n",
    "    a3 = 0.714\n",
    "    a4 = 23.2\n",
    "    if A%2 == 1: # i.e it is odd\n",
    "        a5 = 0\n",
    "    elif A%2 == Z%2 == 0: # A and Z are both even\n",
    "        a5 = 12.0\n",
    "    elif Z%2 == 1: # A is even and Z is odd\n",
    "        a5 = -12.0\n",
    "    #binding energy\n",
    "    B = a1 * A - a2* A**(2/3) - a3 * (Z**2/A**(1/3)) - a4*((A - 2*Z)**2)/A + a5/A**(1/2)\n",
    "\n",
    "    return B, B/A \n",
    "\n"
   ]
  },
  {
   "cell_type": "code",
   "execution_count": 7,
   "metadata": {},
   "outputs": [
    {
     "data": {
      "text/plain": [
       "(497.5620206224374, 8.578655527973059)"
      ]
     },
     "execution_count": 7,
     "metadata": {},
     "output_type": "execute_result"
    }
   ],
   "source": [
    "semi_empirical_mass(58, 28)"
   ]
  },
  {
   "cell_type": "markdown",
   "metadata": {},
   "source": [
    "###  c."
   ]
  },
  {
   "cell_type": "code",
   "execution_count": 8,
   "metadata": {},
   "outputs": [],
   "source": [
    "def semi_empirical_mass_2(Z):\n",
    "    BperN = 0\n",
    "    B_main = 0\n",
    "    A_best = 0\n",
    "    for A in range(Z, 3*Z + 1, 1):\n",
    "        B, B_A = semi_empirical_mass(A, Z)\n",
    "        if B_A >= BperN:\n",
    "            BperN = B/A\n",
    "            B_main = B\n",
    "            A_best = A   \n",
    "    return A_best\n",
    "        "
   ]
  },
  {
   "cell_type": "code",
   "execution_count": 9,
   "metadata": {},
   "outputs": [
    {
     "data": {
      "text/plain": [
       "62"
      ]
     },
     "execution_count": 9,
     "metadata": {},
     "output_type": "execute_result"
    }
   ],
   "source": [
    "semi_empirical_mass_2(Z = 28)"
   ]
  },
  {
   "cell_type": "markdown",
   "metadata": {},
   "source": [
    "### d."
   ]
  },
  {
   "cell_type": "code",
   "execution_count": 10,
   "metadata": {},
   "outputs": [],
   "source": [
    "def semi_empirical_mass_final():\n",
    "    Z_list = []\n",
    "    A_best = []\n",
    "    BperN = 0\n",
    "    Z_best = 0\n",
    "    for Z in range(1, 101, 1):\n",
    "        Z_list.append(Z)\n",
    "        A = semi_empirical_mass_2(Z)\n",
    "        A_best.append(A)\n",
    "        B, B_N = semi_empirical_mass(A, Z)\n",
    "        if B_N >= BperN:\n",
    "            BperN = B_N\n",
    "            Z_best = Z\n",
    "    return Z_list, A_best, Z_best"
   ]
  },
  {
   "cell_type": "code",
   "execution_count": 11,
   "metadata": {},
   "outputs": [
    {
     "data": {
      "text/plain": [
       "([1,\n",
       "  2,\n",
       "  3,\n",
       "  4,\n",
       "  5,\n",
       "  6,\n",
       "  7,\n",
       "  8,\n",
       "  9,\n",
       "  10,\n",
       "  11,\n",
       "  12,\n",
       "  13,\n",
       "  14,\n",
       "  15,\n",
       "  16,\n",
       "  17,\n",
       "  18,\n",
       "  19,\n",
       "  20,\n",
       "  21,\n",
       "  22,\n",
       "  23,\n",
       "  24,\n",
       "  25,\n",
       "  26,\n",
       "  27,\n",
       "  28,\n",
       "  29,\n",
       "  30,\n",
       "  31,\n",
       "  32,\n",
       "  33,\n",
       "  34,\n",
       "  35,\n",
       "  36,\n",
       "  37,\n",
       "  38,\n",
       "  39,\n",
       "  40,\n",
       "  41,\n",
       "  42,\n",
       "  43,\n",
       "  44,\n",
       "  45,\n",
       "  46,\n",
       "  47,\n",
       "  48,\n",
       "  49,\n",
       "  50,\n",
       "  51,\n",
       "  52,\n",
       "  53,\n",
       "  54,\n",
       "  55,\n",
       "  56,\n",
       "  57,\n",
       "  58,\n",
       "  59,\n",
       "  60,\n",
       "  61,\n",
       "  62,\n",
       "  63,\n",
       "  64,\n",
       "  65,\n",
       "  66,\n",
       "  67,\n",
       "  68,\n",
       "  69,\n",
       "  70,\n",
       "  71,\n",
       "  72,\n",
       "  73,\n",
       "  74,\n",
       "  75,\n",
       "  76,\n",
       "  77,\n",
       "  78,\n",
       "  79,\n",
       "  80,\n",
       "  81,\n",
       "  82,\n",
       "  83,\n",
       "  84,\n",
       "  85,\n",
       "  86,\n",
       "  87,\n",
       "  88,\n",
       "  89,\n",
       "  90,\n",
       "  91,\n",
       "  92,\n",
       "  93,\n",
       "  94,\n",
       "  95,\n",
       "  96,\n",
       "  97,\n",
       "  98,\n",
       "  99,\n",
       "  100],\n",
       " [3,\n",
       "  4,\n",
       "  7,\n",
       "  8,\n",
       "  11,\n",
       "  14,\n",
       "  15,\n",
       "  18,\n",
       "  19,\n",
       "  22,\n",
       "  25,\n",
       "  26,\n",
       "  29,\n",
       "  30,\n",
       "  33,\n",
       "  36,\n",
       "  37,\n",
       "  40,\n",
       "  43,\n",
       "  44,\n",
       "  47,\n",
       "  48,\n",
       "  51,\n",
       "  54,\n",
       "  55,\n",
       "  58,\n",
       "  61,\n",
       "  62,\n",
       "  65,\n",
       "  68,\n",
       "  69,\n",
       "  72,\n",
       "  75,\n",
       "  76,\n",
       "  79,\n",
       "  82,\n",
       "  85,\n",
       "  86,\n",
       "  89,\n",
       "  92,\n",
       "  93,\n",
       "  96,\n",
       "  99,\n",
       "  102,\n",
       "  103,\n",
       "  106,\n",
       "  109,\n",
       "  110,\n",
       "  113,\n",
       "  116,\n",
       "  119,\n",
       "  120,\n",
       "  123,\n",
       "  126,\n",
       "  129,\n",
       "  130,\n",
       "  133,\n",
       "  136,\n",
       "  139,\n",
       "  140,\n",
       "  143,\n",
       "  146,\n",
       "  149,\n",
       "  150,\n",
       "  153,\n",
       "  156,\n",
       "  159,\n",
       "  162,\n",
       "  163,\n",
       "  166,\n",
       "  169,\n",
       "  172,\n",
       "  175,\n",
       "  176,\n",
       "  179,\n",
       "  182,\n",
       "  185,\n",
       "  188,\n",
       "  191,\n",
       "  192,\n",
       "  195,\n",
       "  198,\n",
       "  201,\n",
       "  204,\n",
       "  205,\n",
       "  208,\n",
       "  211,\n",
       "  214,\n",
       "  217,\n",
       "  220,\n",
       "  223,\n",
       "  224,\n",
       "  227,\n",
       "  230,\n",
       "  233,\n",
       "  236,\n",
       "  239,\n",
       "  242,\n",
       "  243,\n",
       "  246],\n",
       " 28)"
      ]
     },
     "execution_count": 11,
     "metadata": {},
     "output_type": "execute_result"
    }
   ],
   "source": [
    "semi_empirical_mass_final()"
   ]
  },
  {
   "cell_type": "markdown",
   "metadata": {},
   "source": [
    "## Exercise 2.11 Binomial Coefficients"
   ]
  },
  {
   "cell_type": "code",
   "execution_count": 18,
   "metadata": {},
   "outputs": [],
   "source": [
    "def factorial(n):\n",
    "    product = 1\n",
    "    for i in range(1, n+1):\n",
    "        product *= i\n",
    "    return product\n",
    "def binomial_coefficients(n,k):\n",
    "\n",
    "    numerator = factorial(n)\n",
    "    denominator = factorial(k)*factorial(n-k)\n",
    "    binomial = numerator//denominator\n",
    "    return binomial\n",
    "\n"
   ]
  },
  {
   "cell_type": "code",
   "execution_count": 27,
   "metadata": {},
   "outputs": [
    {
     "data": {
      "text/plain": [
       "1"
      ]
     },
     "execution_count": 27,
     "metadata": {},
     "output_type": "execute_result"
    }
   ],
   "source": [
    "binomial_coefficients(3, 0)"
   ]
  },
  {
   "cell_type": "markdown",
   "metadata": {},
   "source": [
    "Pascal's traingle"
   ]
  },
  {
   "cell_type": "code",
   "execution_count": 39,
   "metadata": {},
   "outputs": [
    {
     "name": "stdout",
     "output_type": "stream",
     "text": [
      "1 1\n",
      "1 2 1\n",
      "1 3 3 1\n",
      "1 4 6 4 1\n",
      "1 5 10 10 5 1\n",
      "1 6 15 20 15 6 1\n",
      "1 7 21 35 35 21 7 1\n",
      "1 8 28 56 70 56 28 8 1\n",
      "1 9 36 84 126 126 84 36 9 1\n",
      "1 10 45 120 210 252 210 120 45 10 1\n",
      "1 11 55 165 330 462 462 330 165 55 11 1\n",
      "1 12 66 220 495 792 924 792 495 220 66 12 1\n",
      "1 13 78 286 715 1287 1716 1716 1287 715 286 78 13 1\n",
      "1 14 91 364 1001 2002 3003 3432 3003 2002 1001 364 91 14 1\n",
      "1 15 105 455 1365 3003 5005 6435 6435 5005 3003 1365 455 105 15 1\n",
      "1 16 120 560 1820 4368 8008 11440 12870 11440 8008 4368 1820 560 120 16 1\n",
      "1 17 136 680 2380 6188 12376 19448 24310 24310 19448 12376 6188 2380 680 136 17 1\n",
      "1 18 153 816 3060 8568 18564 31824 43758 48620 43758 31824 18564 8568 3060 816 153 18 1\n",
      "1 19 171 969 3876 11628 27132 50388 75582 92378 92378 75582 50388 27132 11628 3876 969 171 19 1\n",
      "1 20 190 1140 4845 15504 38760 77520 125970 167960 184756 167960 125970 77520 38760 15504 4845 1140 190 20 1\n"
     ]
    }
   ],
   "source": [
    "def pascal_triangle(n):\n",
    "    for m in range(1, n +1):\n",
    "        binomials = []\n",
    "        for k in range(m + 1):\n",
    "            binomials.append(binomial_coefficients(m, k))\n",
    "        print(*binomials)\n",
    "\n",
    "pascal_triangle(20)\n"
   ]
  },
  {
   "cell_type": "code",
   "execution_count": 50,
   "metadata": {},
   "outputs": [],
   "source": [
    "# prabability that an unbiased coin, tossed n times, will come up heads/ k times is \n",
    "\n",
    "#P(k heads in n throws) = P(head in single throw)^(k) * (no of ways a given combination of k heads occurs in n throws) *P(tails)^(n - k)\n",
    "\n",
    "def prob_coin_toss(k, n):\n",
    "    prob_head = 0.5\n",
    "    combinations = binomial_coefficients(n, k)\n",
    "    total_prob = prob_head**n * (combinations)\n",
    "    return total_prob\n",
    "\n",
    "\n",
    "def cumulative_prob(k, n):\n",
    "    #to sum prob for all  k < n\n",
    "    cum_prob = 0\n",
    "    for k_sub in range(0, k+1):\n",
    "        cum_prob += prob_coin_toss(k_sub, n)\n",
    "    return cum_prob\n",
    "\n"
   ]
  },
  {
   "cell_type": "code",
   "execution_count": 43,
   "metadata": {},
   "outputs": [
    {
     "name": "stdout",
     "output_type": "stream",
     "text": [
      "0.07958923738717877\n",
      "0.5397946186935894\n"
     ]
    }
   ],
   "source": [
    "\n",
    "print(prob_coin_toss(50, 100))\n",
    "print(cumulative_prob(50,100))"
   ]
  },
  {
   "cell_type": "code",
   "execution_count": 48,
   "metadata": {},
   "outputs": [
    {
     "data": {
      "text/plain": [
       "<matplotlib.collections.PathCollection at 0x111cfa450>"
      ]
     },
     "execution_count": 48,
     "metadata": {},
     "output_type": "execute_result"
    },
    {
     "data": {
      "image/png": "[encoded data removed]",
      "text/plain": [
       "<Figure size 640x480 with 1 Axes>"
      ]
     },
     "metadata": {},
     "output_type": "display_data"
    }
   ],
   "source": [
    "#pdf\n",
    "n = np.arange(0, 101)\n",
    "p = []\n",
    "for k in n:\n",
    "    p.append(prob_coin_toss(k, n = 100))\n",
    "p = np.array(p)\n",
    "\n",
    "plt.scatter(n, p)"
   ]
  },
  {
   "cell_type": "code",
   "execution_count": 51,
   "metadata": {},
   "outputs": [
    {
     "data": {
      "text/plain": [
       "<matplotlib.collections.PathCollection at 0x111f54170>"
      ]
     },
     "execution_count": 51,
     "metadata": {},
     "output_type": "execute_result"
    },
    {
     "data": {
      "image/png": "[encoded data removed]",
      "text/plain": [
       "<Figure size 640x480 with 1 Axes>"
      ]
     },
     "metadata": {},
     "output_type": "display_data"
    }
   ],
   "source": [
    "#cdf\n",
    "cp = []\n",
    "for k in n:\n",
    "    cp.append(cumulative_prob(k, n = 100))\n",
    "cp = np.array(cp)\n",
    "\n",
    "plt.scatter(n, cp)"
   ]
  },
  {
   "cell_type": "markdown",
   "metadata": {},
   "source": [
    "## Exercise 2.12 Prime Numbers\n",
    "\n",
    "a) A number n is primer if it has no primer factors less than n. Hence we only need to check if it is divisible by other primes.\n",
    "\n",
    "b) If a number n in non-prime, having a factor r, then n = r*s, where s is also a factor. if r >= sqrt(n) then n= rs .= sqrt(ns), which implies that s <= sqrt(n). thus to dertermine if a number is prime we have to check its primer factors only up to and including sqrt(n). If there are none then the number is prime.\n",
    "\n",
    "c) If we find even a single primer facotr less than sqrt(n), then we know that the number is non-prime, and hence there is no need to check any further - we can abandon this number and move on to something else.\n",
    "\n"
   ]
  },
  {
   "cell_type": "code",
   "execution_count": 73,
   "metadata": {},
   "outputs": [],
   "source": [
    "def find_primes_upto_(n):\n",
    "    if n <= 2:\n",
    "        raise ValueError(\"The input must be greater than 3\")\n",
    "    prime_list = [2]\n",
    "    for k  in range(3, n+1):\n",
    "        is_prime = True #A flag for whether the k is prime or not\n",
    "        upper_bound = int(np.ceil(k**0.5))\n",
    "        for prime in prime_list:\n",
    "            if prime > upper_bound: #k is a prime number\n",
    "                break\n",
    "            elif k%prime == 0: #k is a composite number\n",
    "                is_prime = False\n",
    "                break\n",
    "        if is_prime:\n",
    "            prime_list.append(k)\n",
    "    return prime_list"
   ]
  },
  {
   "cell_type": "code",
   "execution_count": 75,
   "metadata": {},
   "outputs": [
    {
     "name": "stdout",
     "output_type": "stream",
     "text": [
      "[2, 3, 5, 7, 11, 13, 17, 19, 23, 29, 31, 37, 41, 43, 47, 53, 59, 61, 67, 71, 73, 79, 83, 89, 97, 101, 103, 107, 109, 113, 127, 131, 137, 139, 149, 151, 157, 163, 167, 173, 179, 181, 191, 193, 197, 199, 211, 223, 227, 229, 233, 239, 241, 251, 257, 263, 269, 271, 277, 281, 283, 293, 307, 311, 313, 317, 331, 337, 347, 349, 353, 359, 367, 373, 379, 383, 389, 397, 401, 409, 419, 421, 431, 433, 439, 443, 449, 457, 461, 463, 467, 479, 487, 491, 499, 503, 509, 521, 523, 541, 547, 557, 563, 569, 571, 577, 587, 593, 599, 601, 607, 613, 617, 619, 631, 641, 643, 647, 653, 659, 661, 673, 677, 683, 691, 701, 709, 719, 727, 733, 739, 743, 751, 757, 761, 769, 773, 787, 797, 809, 811, 821, 823, 827, 829, 839, 853, 857, 859, 863, 877, 881, 883, 887, 907, 911, 919, 929, 937, 941, 947, 953, 967, 971, 977, 983, 991, 997, 1009, 1013, 1019, 1021, 1031, 1033, 1039, 1049, 1051, 1061, 1063, 1069, 1087, 1091, 1093, 1097, 1103, 1109, 1117, 1123, 1129, 1151, 1153, 1163, 1171, 1181, 1187, 1193, 1201, 1213, 1217, 1223, 1229, 1231, 1237, 1249, 1259, 1277, 1279, 1283, 1289, 1291, 1297, 1301, 1303, 1307, 1319, 1321, 1327, 1361, 1367, 1373, 1381, 1399, 1409, 1423, 1427, 1429, 1433, 1439, 1447, 1451, 1453, 1459, 1471, 1481, 1483, 1487, 1489, 1493, 1499, 1511, 1523, 1531, 1543, 1549, 1553, 1559, 1567, 1571, 1579, 1583, 1597, 1601, 1607, 1609, 1613, 1619, 1621, 1627, 1637, 1657, 1663, 1667, 1669, 1693, 1697, 1699, 1709, 1721, 1723, 1733, 1741, 1747, 1753, 1759, 1777, 1783, 1787, 1789, 1801, 1811, 1823, 1831, 1847, 1861, 1867, 1871, 1873, 1877, 1879, 1889, 1901, 1907, 1913, 1931, 1933, 1949, 1951, 1973, 1979, 1987, 1993, 1997, 1999, 2003, 2011, 2017, 2027, 2029, 2039, 2053, 2063, 2069, 2081, 2083, 2087, 2089, 2099, 2111, 2113, 2129, 2131, 2137, 2141, 2143, 2153, 2161, 2179, 2203, 2207, 2213, 2221, 2237, 2239, 2243, 2251, 2267, 2269, 2273, 2281, 2287, 2293, 2297, 2309, 2311, 2333, 2339, 2341, 2347, 2351, 2357, 2371, 2377, 2381, 2383, 2389, 2393, 2399, 2411, 2417, 2423, 2437, 2441, 2447, 2459, 2467, 2473, 2477, 2503, 2521, 2531, 2539, 2543, 2549, 2551, 2557, 2579, 2591, 2593, 2609, 2617, 2621, 2633, 2647, 2657, 2659, 2663, 2671, 2677, 2683, 2687, 2689, 2693, 2699, 2707, 2711, 2713, 2719, 2729, 2731, 2741, 2749, 2753, 2767, 2777, 2789, 2791, 2797, 2801, 2803, 2819, 2833, 2837, 2843, 2851, 2857, 2861, 2879, 2887, 2897, 2903, 2909, 2917, 2927, 2939, 2953, 2957, 2963, 2969, 2971, 2999, 3001, 3011, 3019, 3023, 3037, 3041, 3049, 3061, 3067, 3079, 3083, 3089, 3109, 3119, 3121, 3137, 3163, 3167, 3169, 3181, 3187, 3191, 3203, 3209, 3217, 3221, 3229, 3251, 3253, 3257, 3259, 3271, 3299, 3301, 3307, 3313, 3319, 3323, 3329, 3331, 3343, 3347, 3359, 3361, 3371, 3373, 3389, 3391, 3407, 3413, 3433, 3449, 3457, 3461, 3463, 3467, 3469, 3491, 3499, 3511, 3517, 3527, 3529, 3533, 3539, 3541, 3547, 3557, 3559, 3571, 3581, 3583, 3593, 3607, 3613, 3617, 3623, 3631, 3637, 3643, 3659, 3671, 3673, 3677, 3691, 3697, 3701, 3709, 3719, 3727, 3733, 3739, 3761, 3767, 3769, 3779, 3793, 3797, 3803, 3821, 3823, 3833, 3847, 3851, 3853, 3863, 3877, 3881, 3889, 3907, 3911, 3917, 3919, 3923, 3929, 3931, 3943, 3947, 3967, 3989, 4001, 4003, 4007, 4013, 4019, 4021, 4027, 4049, 4051, 4057, 4073, 4079, 4091, 4093, 4099, 4111, 4127, 4129, 4133, 4139, 4153, 4157, 4159, 4177, 4201, 4211, 4217, 4219, 4229, 4231, 4241, 4243, 4253, 4259, 4261, 4271, 4273, 4283, 4289, 4297, 4327, 4337, 4339, 4349, 4357, 4363, 4373, 4391, 4397, 4409, 4421, 4423, 4441, 4447, 4451, 4457, 4463, 4481, 4483, 4493, 4507, 4513, 4517, 4519, 4523, 4547, 4549, 4561, 4567, 4583, 4591, 4597, 4603, 4621, 4637, 4639, 4643, 4649, 4651, 4657, 4663, 4673, 4679, 4691, 4703, 4721, 4723, 4729, 4733, 4751, 4759, 4783, 4787, 4789, 4793, 4799, 4801, 4813, 4817, 4831, 4861, 4871, 4877, 4889, 4903, 4909, 4919, 4931, 4933, 4937, 4943, 4951, 4957, 4967, 4969, 4973, 4987, 4993, 4999, 5003, 5009, 5011, 5021, 5023, 5039, 5051, 5059, 5077, 5081, 5087, 5099, 5101, 5107, 5113, 5119, 5147, 5153, 5167, 5171, 5179, 5189, 5197, 5209, 5227, 5231, 5233, 5237, 5261, 5273, 5279, 5281, 5297, 5303, 5309, 5323, 5333, 5347, 5351, 5381, 5387, 5393, 5399, 5407, 5413, 5417, 5419, 5431, 5437, 5441, 5443, 5449, 5471, 5477, 5479, 5483, 5501, 5503, 5507, 5519, 5521, 5527, 5531, 5557, 5563, 5569, 5573, 5581, 5591, 5623, 5639, 5641, 5647, 5651, 5653, 5657, 5659, 5669, 5683, 5689, 5693, 5701, 5711, 5717, 5737, 5741, 5743, 5749, 5779, 5783, 5791, 5801, 5807, 5813, 5821, 5827, 5839, 5843, 5849, 5851, 5857, 5861, 5867, 5869, 5879, 5881, 5897, 5903, 5923, 5927, 5939, 5953, 5981, 5987, 6007, 6011, 6029, 6037, 6043, 6047, 6053, 6067, 6073, 6079, 6089, 6091, 6101, 6113, 6121, 6131, 6133, 6143, 6151, 6163, 6173, 6197, 6199, 6203, 6211, 6217, 6221, 6229, 6247, 6257, 6263, 6269, 6271, 6277, 6287, 6299, 6301, 6311, 6317, 6323, 6329, 6337, 6343, 6353, 6359, 6361, 6367, 6373, 6379, 6389, 6397, 6421, 6427, 6449, 6451, 6469, 6473, 6481, 6491, 6521, 6529, 6547, 6551, 6553, 6563, 6569, 6571, 6577, 6581, 6599, 6607, 6619, 6637, 6653, 6659, 6661, 6673, 6679, 6689, 6691, 6701, 6703, 6709, 6719, 6733, 6737, 6761, 6763, 6779, 6781, 6791, 6793, 6803, 6823, 6827, 6829, 6833, 6841, 6857, 6863, 6869, 6871, 6883, 6899, 6907, 6911, 6917, 6947, 6949, 6959, 6961, 6967, 6971, 6977, 6983, 6991, 6997, 7001, 7013, 7019, 7027, 7039, 7043, 7057, 7069, 7079, 7103, 7109, 7121, 7127, 7129, 7151, 7159, 7177, 7187, 7193, 7207, 7211, 7213, 7219, 7229, 7237, 7243, 7247, 7253, 7283, 7297, 7307, 7309, 7321, 7331, 7333, 7349, 7351, 7369, 7393, 7411, 7417, 7433, 7451, 7457, 7459, 7477, 7481, 7487, 7489, 7499, 7507, 7517, 7523, 7529, 7537, 7541, 7547, 7549, 7559, 7561, 7573, 7577, 7583, 7589, 7591, 7603, 7607, 7621, 7639, 7643, 7649, 7669, 7673, 7681, 7687, 7691, 7699, 7703, 7717, 7723, 7727, 7741, 7753, 7757, 7759, 7789, 7793, 7817, 7823, 7829, 7841, 7853, 7867, 7873, 7877, 7879, 7883, 7901, 7907, 7919, 7927, 7933, 7937, 7949, 7951, 7963, 7993, 8009, 8011, 8017, 8039, 8053, 8059, 8069, 8081, 8087, 8089, 8093, 8101, 8111, 8117, 8123, 8147, 8161, 8167, 8171, 8179, 8191, 8209, 8219, 8221, 8231, 8233, 8237, 8243, 8263, 8269, 8273, 8287, 8291, 8293, 8297, 8311, 8317, 8329, 8353, 8363, 8369, 8377, 8387, 8389, 8419, 8423, 8429, 8431, 8443, 8447, 8461, 8467, 8501, 8513, 8521, 8527, 8537, 8539, 8543, 8563, 8573, 8581, 8597, 8599, 8609, 8623, 8627, 8629, 8641, 8647, 8663, 8669, 8677, 8681, 8689, 8693, 8699, 8707, 8713, 8719, 8731, 8737, 8741, 8747, 8753, 8761, 8779, 8783, 8803, 8807, 8819, 8821, 8831, 8837, 8839, 8849, 8861, 8863, 8867, 8887, 8893, 8923, 8929, 8933, 8941, 8951, 8963, 8969, 8971, 8999, 9001, 9007, 9011, 9013, 9029, 9041, 9043, 9049, 9059, 9067, 9091, 9103, 9109, 9127, 9133, 9137, 9151, 9157, 9161, 9173, 9181, 9187, 9199, 9203, 9209, 9221, 9227, 9239, 9241, 9257, 9277, 9281, 9283, 9293, 9311, 9319, 9323, 9337, 9341, 9343, 9349, 9371, 9377, 9391, 9397, 9403, 9413, 9419, 9421, 9431, 9433, 9437, 9439, 9461, 9463, 9467, 9473, 9479, 9491, 9497, 9511, 9521, 9533, 9539, 9547, 9551, 9587, 9601, 9613, 9619, 9623, 9629, 9631, 9643, 9649, 9661, 9677, 9679, 9689, 9697, 9719, 9721, 9733, 9739, 9743, 9749, 9767, 9769, 9781, 9787, 9791, 9803, 9811, 9817, 9829, 9833, 9839, 9851, 9857, 9859, 9871, 9883, 9887, 9901, 9907, 9923, 9929, 9931, 9941, 9949, 9967, 9973]\n"
     ]
    }
   ],
   "source": [
    "prime_list  = "
   ]
  },
  {
   "cell_type": "code",
   "execution_count": 76,
   "metadata": {},
   "outputs": [],
   "source": [
    "def prime_gaps(prime_list):\n",
    "    index = []\n",
    "    prime_gap = []\n",
    "    for i in range(len(prime_list)-1):\n",
    "        index.append(i + 1)\n",
    "        prime_gap.append(prime_list[i +1]- prime_list[i])\n",
    "    return index, prime_gap"
   ]
  },
  {
   "cell_type": "code",
   "execution_count": 85,
   "metadata": {},
   "outputs": [],
   "source": [
    "prime_list = find_primes_upto_(10000000)\n"
   ]
  },
  {
   "cell_type": "code",
   "execution_count": 86,
   "metadata": {},
   "outputs": [],
   "source": [
    "i,p = prime_gaps(prime_list)"
   ]
  },
  {
   "cell_type": "code",
   "execution_count": 87,
   "metadata": {},
   "outputs": [
    {
     "data": {
      "text/plain": [
       "(array([5.8981e+04, 5.8621e+04, 0.0000e+00, 9.9987e+04, 4.2352e+04,\n",
       "        5.4431e+04, 0.0000e+00, 6.5513e+04, 3.5394e+04, 2.5099e+04,\n",
       "        0.0000e+00, 4.3851e+04, 2.2084e+04, 1.9451e+04, 0.0000e+00,\n",
       "        2.7170e+04, 1.2249e+04, 1.3255e+04, 2.1741e+04, 0.0000e+00,\n",
       "        6.3640e+03, 6.7210e+03, 1.0194e+04, 0.0000e+00, 4.4980e+03,\n",
       "        5.3180e+03, 7.1800e+03, 0.0000e+00, 2.7790e+03, 2.3260e+03,\n",
       "        3.7840e+03, 0.0000e+00, 2.0480e+03, 1.4490e+03, 2.4030e+03,\n",
       "        1.0720e+03, 0.0000e+00, 1.0520e+03, 1.8340e+03, 5.4300e+02,\n",
       "        0.0000e+00, 5.5900e+02, 9.7300e+02, 3.5800e+02, 0.0000e+00,\n",
       "        5.2400e+02, 4.6800e+02, 2.1800e+02, 0.0000e+00, 1.9400e+02,\n",
       "        3.6200e+02, 1.6500e+02, 1.0000e+02, 0.0000e+00, 2.4700e+02,\n",
       "        6.6000e+01, 7.1000e+01, 0.0000e+00, 1.4100e+02, 3.7000e+01,\n",
       "        3.9000e+01, 0.0000e+00, 6.5000e+01, 2.9000e+01, 3.6000e+01,\n",
       "        0.0000e+00, 3.4000e+01, 2.1000e+01, 1.2000e+01, 2.6000e+01,\n",
       "        0.0000e+00, 1.1000e+01, 1.1000e+01, 1.1000e+01, 0.0000e+00,\n",
       "        7.0000e+00, 4.0000e+00, 1.0000e+01, 0.0000e+00, 3.0000e+00,\n",
       "        4.0000e+00, 8.0000e+00, 0.0000e+00, 2.0000e+00, 1.0000e+00,\n",
       "        5.0000e+00, 1.0000e+00, 0.0000e+00, 2.0000e+00, 2.0000e+00,\n",
       "        2.0000e+00, 0.0000e+00, 0.0000e+00, 0.0000e+00, 1.0000e+00,\n",
       "        0.0000e+00, 2.0000e+00, 0.0000e+00, 1.0000e+00, 1.0000e+00]),\n",
       " array([  1.  ,   2.53,   4.06,   5.59,   7.12,   8.65,  10.18,  11.71,\n",
       "         13.24,  14.77,  16.3 ,  17.83,  19.36,  20.89,  22.42,  23.95,\n",
       "         25.48,  27.01,  28.54,  30.07,  31.6 ,  33.13,  34.66,  36.19,\n",
       "         37.72,  39.25,  40.78,  42.31,  43.84,  45.37,  46.9 ,  48.43,\n",
       "         49.96,  51.49,  53.02,  54.55,  56.08,  57.61,  59.14,  60.67,\n",
       "         62.2 ,  63.73,  65.26,  66.79,  68.32,  69.85,  71.38,  72.91,\n",
       "         74.44,  75.97,  77.5 ,  79.03,  80.56,  82.09,  83.62,  85.15,\n",
       "         86.68,  88.21,  89.74,  91.27,  92.8 ,  94.33,  95.86,  97.39,\n",
       "         98.92, 100.45, 101.98, 103.51, 105.04, 106.57, 108.1 , 109.63,\n",
       "        111.16, 112.69, 114.22, 115.75, 117.28, 118.81, 120.34, 121.87,\n",
       "        123.4 , 124.93, 126.46, 127.99, 129.52, 131.05, 132.58, 134.11,\n",
       "        135.64, 137.17, 138.7 , 140.23, 141.76, 143.29, 144.82, 146.35,\n",
       "        147.88, 149.41, 150.94, 152.47, 154.  ]),\n",
       " <BarContainer object of 100 artists>)"
      ]
     },
     "execution_count": 87,
     "metadata": {},
     "output_type": "execute_result"
    },
    {
     "data": {
      "image/png": "[encoded data removed]",
      "text/plain": [
       "<Figure size 640x480 with 1 Axes>"
      ]
     },
     "metadata": {},
     "output_type": "display_data"
    }
   ],
   "source": [
    "plt.hist(p, bins = 100)"
   ]
  },
  {
   "cell_type": "markdown",
   "metadata": {},
   "source": [
    "### Exercise 2.13 Recursion\n",
    "\n",
    "1. Factorial "
   ]
  },
  {
   "cell_type": "code",
   "execution_count": 89,
   "metadata": {},
   "outputs": [
    {
     "data": {
      "text/plain": [
       "24"
      ]
     },
     "execution_count": 89,
     "metadata": {},
     "output_type": "execute_result"
    }
   ],
   "source": [
    "def factorial_by_recursion(n):\n",
    "    if n == 1:\n",
    "        return 1\n",
    "    else:\n",
    "        return n*factorial_by_recursion(n-1)\n",
    "\n",
    "factorial_by_recursion(4)"
   ]
  },
  {
   "cell_type": "markdown",
   "metadata": {},
   "source": [
    "2. Catalan NUmbers C_n"
   ]
  },
  {
   "cell_type": "code",
   "execution_count": 90,
   "metadata": {},
   "outputs": [
    {
     "data": {
      "text/plain": [
       "8.96519947090131e+56"
      ]
     },
     "execution_count": 90,
     "metadata": {},
     "output_type": "execute_result"
    }
   ],
   "source": [
    "def generate_catalan_numbers(n):\n",
    "    if n == 0:\n",
    "        return 1\n",
    "    else:\n",
    "        return (4*n -2)*(generate_catalan_numbers(n-1))/(n+1)\n",
    "    \n",
    "generate_catalan_numbers(100)"
   ]
  },
  {
   "cell_type": "markdown",
   "metadata": {},
   "source": [
    "3. Greatest Common Divisor g(m,n)"
   ]
  },
  {
   "cell_type": "code",
   "execution_count": 92,
   "metadata": {},
   "outputs": [
    {
     "data": {
      "text/plain": [
       "12"
      ]
     },
     "execution_count": 92,
     "metadata": {},
     "output_type": "execute_result"
    }
   ],
   "source": [
    "def greatest_common_divisor(m,n): \n",
    "    if n == 0:\n",
    "        return m\n",
    "    else:\n",
    "\n",
    "        return greatest_common_divisor(n, m%n)\n",
    "\n",
    "greatest_common_divisor(108, 192)    "
   ]
  },
  {
   "cell_type": "code",
   "execution_count": null,
   "metadata": {},
   "outputs": [],
   "source": []
  }
 ],
 "metadata": {
  "kernelspec": {
   "display_name": "Python 3",
   "language": "python",
   "name": "python3"
  },
  "language_info": {
   "codemirror_mode": {
    "name": "ipython",
    "version": 3
   },
   "file_extension": ".py",
   "mimetype": "text/x-python",
   "name": "python",
   "nbconvert_exporter": "python",
   "pygments_lexer": "ipython3",
   "version": "3.12.1"
  }
 },
 "nbformat": 4,
 "nbformat_minor": 2
}
