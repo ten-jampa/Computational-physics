{
 "cells": [
  {
   "cell_type": "markdown",
   "metadata": {},
   "source": [
    "# Chapter 4 : Accuracy and Speed"
   ]
  },
  {
   "cell_type": "code",
   "execution_count": 15,
   "metadata": {},
   "outputs": [],
   "source": [
    "from math import sqrt\n",
    "import numpy as np\n",
    "import matplotlib.pyplot as plt\n"
   ]
  },
  {
   "cell_type": "markdown",
   "metadata": {},
   "source": [
    "## Ex 4.1: The difference of two numbers"
   ]
  },
  {
   "cell_type": "code",
   "execution_count": 19,
   "metadata": {},
   "outputs": [
    {
     "name": "stdout",
     "output_type": "stream",
     "text": [
      "1.4210854715202004\n",
      "1.4142135623730951\n",
      "-0.006871909147105226\n"
     ]
    }
   ],
   "source": [
    "x = 1\n",
    "y = 1 + (1e-14)*sqrt(2)\n",
    "# (y -x) = (1e-14)*sqrt(2) ---> sqrt(2) = (y -x )*(1e14) Trivially \n",
    "root2_1 = ((1e14)*(y-x))\n",
    "root2_2 = sqrt(2) \n",
    "print(root2_1)\n",
    "print(root2_2)\n",
    "print(root2_2 - root2_1) #the first estimate is slightly bigger"
   ]
  },
  {
   "cell_type": "markdown",
   "metadata": {},
   "source": [
    "## Ex 4.2 Quadratic Equations\n",
    "\n",
    "Consider a quadratic equation $ ax^{2} + bx + c = 0 $ that has real solutions.\n",
    "a) write a program that takes as input the the three numbers, a,b, and c, and prints out the two solutions using the standard formula\n",
    "$$ x = \\frac{-b \\pm \\sqrt{b^{2}-4ac}}{2a} $$\n",
    "Use your program to compute the solutions of $0.001x^{2} + 1000x + 0.001 = 0$"
   ]
  },
  {
   "cell_type": "code",
   "execution_count": 21,
   "metadata": {},
   "outputs": [
    {
     "data": {
      "text/plain": [
       "(-9.999894245993346e-07, -999999.999999)"
      ]
     },
     "execution_count": 21,
     "metadata": {},
     "output_type": "execute_result"
    }
   ],
   "source": [
    "def quadratic_solutions(a, b, c):\n",
    "    discriminant = b**2 - 4*a*c\n",
    "    if discriminant < 0:\n",
    "        assert ValueError(\"Complex Solution\")\n",
    "    elif discriminant == 0:\n",
    "        return -b/(2*a)\n",
    "    else:\n",
    "        pos_x = (-b + sqrt(discriminant))/(2*a)\n",
    "        neg_x = (-b - sqrt(discriminant))/(2*a) \n",
    "        return pos_x, neg_x\n",
    "\n",
    "quadratic_solutions(0.001, 1000, 0.001)"
   ]
  },
  {
   "cell_type": "code",
   "execution_count": 25,
   "metadata": {},
   "outputs": [
    {
     "data": {
      "text/plain": [
       "(-1.000000000001e-06, -1000010.5755125057)"
      ]
     },
     "execution_count": 25,
     "metadata": {},
     "output_type": "execute_result"
    }
   ],
   "source": [
    "def quadratic_solutions_2(a,b,c):\n",
    "    discriminant = b**2 - 4*a*c\n",
    "    if discriminant < 0:\n",
    "        assert ValueError(\"Complex Solution\")\n",
    "    elif discriminant == 0:\n",
    "        return 2*c/(-b)\n",
    "    else:\n",
    "        pos_x = (2*c)/(-b + discriminant**0.5)\n",
    "        neg_x = (2*c)/(-b - sqrt(discriminant))\n",
    "        return  neg_x, pos_x\n",
    "\n",
    "quadratic_solutions_2(0.001, 1000, 0.001)"
   ]
  },
  {
   "cell_type": "markdown",
   "metadata": {},
   "source": [
    "## Exercise 4.3: Calculating Derivaties\n",
    "\n",
    "$$\\frac{df}{dx} =  \\lim_{\\delta \\to 0} \\frac{f(x+\\delta) - f(x)}{\\delta} $$"
   ]
  },
  {
   "cell_type": "code",
   "execution_count": 26,
   "metadata": {},
   "outputs": [
    {
     "data": {
      "text/plain": [
       "2"
      ]
     },
     "execution_count": 26,
     "metadata": {},
     "output_type": "execute_result"
    }
   ],
   "source": [
    "f = lambda x: x*(x-1)\n",
    "f(2) \n",
    "# analytically f'(x) = 2x - 1\n",
    "#f'(x =1 ) = 1"
   ]
  },
  {
   "cell_type": "code",
   "execution_count": 32,
   "metadata": {},
   "outputs": [],
   "source": [
    "def derivative(function, delta):\n",
    "    x = 1\n",
    "    df = function(x + delta) - function(x)\n",
    "    dx = delta\n",
    "    df_dx = df/dx\n",
    "    return df_dx"
   ]
  },
  {
   "cell_type": "code",
   "execution_count": 28,
   "metadata": {},
   "outputs": [
    {
     "data": {
      "text/plain": [
       "1.010000000000001"
      ]
     },
     "execution_count": 28,
     "metadata": {},
     "output_type": "execute_result"
    }
   ],
   "source": [
    "derivative(f, delta = 1e-2)"
   ]
  },
  {
   "cell_type": "code",
   "execution_count": 33,
   "metadata": {},
   "outputs": [
    {
     "name": "stdout",
     "output_type": "stream",
     "text": [
      "[1.010000000000001, 1.0000999999998899, 1.0000009999177333, 1.0000000039225287, 1.0000889005833413, 0.9992007221626509]\n"
     ]
    }
   ],
   "source": [
    "deltas = [1e-2, 1e-4, 1e-6, 1e-8, 1e-12, 1e-14]\n",
    "df_dx = []\n",
    "for delta in deltas:\n",
    "    df_dx.append(derivative(f, delta))\n",
    "print(df_dx)"
   ]
  },
  {
   "cell_type": "code",
   "execution_count": null,
   "metadata": {},
   "outputs": [],
   "source": []
  }
 ],
 "metadata": {
  "kernelspec": {
   "display_name": ".venv",
   "language": "python",
   "name": "python3"
  },
  "language_info": {
   "codemirror_mode": {
    "name": "ipython",
    "version": 3
   },
   "file_extension": ".py",
   "mimetype": "text/x-python",
   "name": "python",
   "nbconvert_exporter": "python",
   "pygments_lexer": "ipython3",
   "version": "3.12.1"
  }
 },
 "nbformat": 4,
 "nbformat_minor": 2
}
