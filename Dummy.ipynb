{
 "cells": [
  {
   "cell_type": "code",
   "execution_count": null,
   "id": "5717a8c0-9d97-4b58-bb38-bf759ae8cd9e",
   "metadata": {},
   "outputs": [],
   "source": []
  }
 ],
 "metadata": {
  "kernelspec": {
   "display_name": "",
   "name": ""
  },
  "language_info": {
   "name": ""
  }
 },
 "nbformat": 4,
 "nbformat_minor": 5
}
