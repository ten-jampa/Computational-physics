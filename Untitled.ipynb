{
 "cells": [
  {
   "cell_type": "code",
   "execution_count": 1,
   "id": "5717a8c0-9d97-4b58-bb38-bf759ae8cd9e",
   "metadata": {},
   "outputs": [],
   "source": [
    "## leet code grind"
   ]
  },
  {
   "cell_type": "markdown",
   "id": "604aaa35-9eab-4041-9d81-35a4ee2709a0",
   "metadata": {},
   "source": [
    "## Replace Words\n",
    "In English, we have a concept called root, which can be followed by some other word to form another longer word - let's call this word derivative. For example, when the root \"help\" is followed by the word \"ful\", we can form a derivative \"helpful\".\n",
    "\n",
    "Given a dictionary consisting of many roots and a sentence consisting of words separated by spaces, replace all the derivatives in the sentence with the root forming it. If a derivative can be replaced by more than one root, replace it with the root that has the shortest length.\n",
    "\n",
    "Return the sentence after the replacement.\n"
   ]
  },
  {
   "cell_type": "code",
   "execution_count": 51,
   "id": "cd5e06e6-c8e8-499a-b314-b9d5307c04e4",
   "metadata": {},
   "outputs": [
    {
     "name": "stdout",
     "output_type": "stream",
     "text": [
      "I am feeling good\n",
      "['I', 'am', 'feeling', 'good']\n"
     ]
    }
   ],
   "source": [
    "# task 1: figure out how to break down a sentence into a list of words\n",
    "s = 'I am feeling good'\n",
    "l = list(s)\n",
    "#print(l) # this decomposes the string into each individual strings\n",
    "\n",
    "def str_to_list(string):\n",
    "    # a Naive way might be like this\n",
    "    #What's the order of complexity for this function\n",
    "    #How does it scale with the length of s\n",
    "    word = ''\n",
    "    word_list = []\n",
    "    for s in string:\n",
    "        if s != ' ':\n",
    "            word += s\n",
    "        else:\n",
    "            word_list.append(word)\n",
    "            word = ''\n",
    "    word_list.append(word)\n",
    "    return word_list\n",
    "\n",
    "\n",
    "word_list = str_to_list(s)\n",
    "\n",
    "#But the native way to do it which I was forgetting was the split method\n",
    "#print(l)\n",
    "print(s)\n",
    "word_list_split = s.split()\n",
    "print(word_list_split)"
   ]
  },
  {
   "cell_type": "code",
   "execution_count": 53,
   "id": "f8172a76-9923-45cc-af6a-1bd75265c3e7",
   "metadata": {},
   "outputs": [
    {
     "name": "stdout",
     "output_type": "stream",
     "text": [
      "[False, False, True, False]\n"
     ]
    }
   ],
   "source": [
    "#task 2: we want to compare our word_list to the root_list\n",
    "dictionary = ['a', 'feel', 'go']\n",
    "\n",
    "print(['feel' in word_list[i] for i in range(len(word_list))])\n",
    "\n",
    "def search_and_replace(dictionary, word_list):\n",
    "    word_list_copy = word_list[:]\n",
    "    for root in dictionary:\n",
    "        indices = [i for i,x in enumerate(word_list) if root in x]\n",
    "        for ind in indices:\n",
    "            word_list_copy[ind] = root\n",
    "    return word_list_copy\n",
    "\n",
    "    \n",
    "        "
   ]
  },
  {
   "cell_type": "code",
   "execution_count": 54,
   "id": "bc85f104-7a27-4d65-87dc-bbe0b2b33f29",
   "metadata": {},
   "outputs": [
    {
     "data": {
      "text/plain": [
       "['I', 'a', 'feel', 'go']"
      ]
     },
     "execution_count": 54,
     "metadata": {},
     "output_type": "execute_result"
    }
   ],
   "source": [
    "search_and_replace(dictionary, word_list)"
   ]
  },
  {
   "cell_type": "code",
   "execution_count": 50,
   "id": "d68fafe4-ea79-4440-af4f-0ce19786b75c",
   "metadata": {},
   "outputs": [
    {
     "name": "stdout",
     "output_type": "stream",
     "text": [
      "['I', 'am', 'feel', 'good']\n"
     ]
    },
    {
     "data": {
      "text/plain": [
       "['I', 'am', 'feel', 'good']"
      ]
     },
     "execution_count": 50,
     "metadata": {},
     "output_type": "execute_result"
    }
   ],
   "source": [
    "indices = [i for i,x in enumerate(word_list) if 'feel' in x]\n",
    "for i in indices:\n",
    "    word_list[i] = 'feel'\n",
    "\n",
    "print(word_list)\n",
    "\n",
    "\n",
    "word_list\n"
   ]
  },
  {
   "cell_type": "code",
   "execution_count": 56,
   "id": "21913fe4-1f1f-407a-996c-b027d3f09ea0",
   "metadata": {},
   "outputs": [
    {
     "data": {
      "text/plain": [
       "['I', 'am', 'feeling', 'good']"
      ]
     },
     "execution_count": 56,
     "metadata": {},
     "output_type": "execute_result"
    }
   ],
   "source": [
    "word_list"
   ]
  },
  {
   "cell_type": "code",
   "execution_count": 58,
   "id": "15b8e01b-d4b3-4338-b88e-5e70970b7c5d",
   "metadata": {},
   "outputs": [
    {
     "name": "stdout",
     "output_type": "stream",
     "text": [
      "I am feeling good\n"
     ]
    }
   ],
   "source": [
    "new_sentence = ' '.join(word_list)\n",
    "print(new_sentence)"
   ]
  },
  {
   "cell_type": "code",
   "execution_count": 60,
   "id": "19dde8be-cea4-432b-9216-87dce63f0792",
   "metadata": {},
   "outputs": [
    {
     "data": {
      "text/plain": [
       "False"
      ]
     },
     "execution_count": 60,
     "metadata": {},
     "output_type": "execute_result"
    }
   ],
   "source": [
    "st = 'word'\n",
    "ro = 'rd'\n",
    "ro in st[:len(ro)]"
   ]
  },
  {
   "cell_type": "code",
   "execution_count": null,
   "id": "8324c02b-00a8-4c07-b375-3d57c39c8a81",
   "metadata": {},
   "outputs": [],
   "source": []
  }
 ],
 "metadata": {
  "kernelspec": {
   "display_name": "Python 3 (ipykernel)",
   "language": "python",
   "name": "python3"
  },
  "language_info": {
   "codemirror_mode": {
    "name": "ipython",
    "version": 3
   },
   "file_extension": ".py",
   "mimetype": "text/x-python",
   "name": "python",
   "nbconvert_exporter": "python",
   "pygments_lexer": "ipython3",
   "version": "3.12.1"
  }
 },
 "nbformat": 4,
 "nbformat_minor": 5
}
